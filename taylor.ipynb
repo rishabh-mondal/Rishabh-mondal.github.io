{
  "cells": [
    {
      "cell_type": "raw",
      "metadata": {},
      "source": [
        "---\n",
        "title: Taylor Series\n",
        "format:\n",
        "  html:\n",
        "    code-fold: true\n",
        "---"
      ],
      "id": "ef012a88"
    },
    {
      "cell_type": "markdown",
      "metadata": {},
      "source": [
        "\\begin{equation}\n",
        "f(x) = \\sum_{n=0}^{\\infty}\\frac{f^{(n)}(a)}{n!}(x-a)^{n}\n",
        "\\end{equation}\n",
        "\n",
        "Let $f(x)$ be a function that is $n+1$ times differentiable on an interval $I$ containing $a$ and let $P_n(x)$ be the $n$th degree Taylor polynomial for $f(x)$ about $a$. Then, there exists a number $c$ between $a$ and $x$ such that:\n",
        "\\begin{equation}\n",
        "f(x)=P_n(x)+R_n(x),\n",
        "\\end{equation}\n",
        "where the remainder $R_n(x)$ is given by:\n",
        "\\begin{equation}\n",
        "R_n(x)=\\frac{f^{(n+1)}(c)}{(n+1)!}(x-a)^{n+1}.\n",
        "\\end{equation}\n",
        "\n",
        "# Define the function to be approximated"
      ],
      "id": "48a19a03"
    },
    {
      "cell_type": "code",
      "metadata": {},
      "source": [
        "import torch\n",
        "import math\n",
        "import matplotlib.pyplot as plt\n",
        "import numpy as np\n",
        "# Define the sine function to be approximated\n",
        "def f(x):\n",
        "    return torch.sin(x)\n",
        "\n",
        "x = torch.linspace(-3.14, 3.14, 100)\n",
        "y = f(x)\n",
        "plt.plot(x, y)\n",
        "plt.xlabel('x')\n",
        "plt.ylabel('y')\n",
        "plt.title('Sine Function')\n",
        "plt.show()\n"
      ],
      "id": "e50d9dfd",
      "execution_count": null,
      "outputs": []
    },
    {
      "cell_type": "markdown",
      "metadata": {},
      "source": [
        "# First order Taylor approximation for f(x) at x = 0"
      ],
      "id": "8c250982"
    },
    {
      "cell_type": "code",
      "metadata": {},
      "source": [
        "x = torch.tensor([0.], requires_grad=True)\n",
        "y = f(x)\n",
        "approx = y + torch.autograd.grad(y, x, create_graph=True)[0] * x\n",
        "x_vals = torch.linspace(-np.pi, np.pi, 100)\n",
        "y_vals = f(x_vals)\n",
        "approx_vals = (approx.detach() + torch.autograd.grad(approx, x, create_graph=True)[0] * x_vals).detach()\n",
        "plt.plot(x_vals.numpy(), y_vals.numpy(), label='sin(x)')\n",
        "plt.plot(x_vals.numpy(), approx_vals.numpy(), label='approx')\n",
        "plt.legend()\n",
        "plt.show()"
      ],
      "id": "2f0a1dd0",
      "execution_count": null,
      "outputs": []
    },
    {
      "cell_type": "markdown",
      "metadata": {},
      "source": [
        "# Find the nth order Taylor approximation for f(x) at x = 0"
      ],
      "id": "00357457"
    },
    {
      "cell_type": "code",
      "metadata": {},
      "source": [
        "def fact(n):\n",
        "    return math.factorial(n)\n",
        "\n",
        "def nth_deriv(f, a, n):\n",
        "    if isinstance(a, (float, int)):\n",
        "        a = torch.tensor([a], dtype=torch.float, requires_grad=True)\n",
        "    else:\n",
        "        a = a.clone().detach().requires_grad_(True)\n",
        "    \n",
        "    y = f(a)\n",
        "    for i in range(n):\n",
        "        y = torch.autograd.grad(y, a, create_graph=True)[0]\n",
        "    return y\n",
        "\n",
        "\n",
        "\n",
        "# nth degree Taylor polynomial of f(x) around x=a\n",
        "def taylor(f, x, n):\n",
        "    result = torch.zeros_like(x)\n",
        "    for i in range(n+1):\n",
        "        result += nth_deriv(f, 0, i) / torch.tensor(math.factorial(i), dtype=torch.float32) * (x**i)\n",
        "    return result\n",
        "x_vals = torch.linspace(-math.pi, math.pi, 200)\n",
        "plt.plot(x_vals.numpy(), f(x_vals).numpy(), label='f(x)', lw=5)\n",
        "plt.plot(x_vals.numpy(), taylor(f, x_vals, 1).detach().numpy(), label='Taylor approximation, n=1')\n",
        "plt.plot(x_vals.numpy(), taylor(f, x_vals, 3).detach().numpy(), label='Taylor approximation, n=3')\n",
        "plt.plot(x_vals.numpy(), taylor(f, x_vals, 5).detach().numpy(), label='Taylor approximation, n=5')\n",
        "plt.legend()\n",
        "plt.show()"
      ],
      "id": "7c4f58d2",
      "execution_count": null,
      "outputs": []
    },
    {
      "cell_type": "markdown",
      "metadata": {},
      "source": [
        "# Plot of the function g(x) = x^2 and its Taylor approximations up to degree 1 and degree 2 centered at x=0.\n"
      ],
      "id": "2577cbe3"
    },
    {
      "cell_type": "code",
      "metadata": {},
      "source": [
        "x_vals = torch.linspace(-4, 4, 100)\n",
        "\n",
        "def g(x):\n",
        "    return x**2\n",
        "\n",
        "def taylor(f, x, n):\n",
        "    x = x.unsqueeze(-1)\n",
        "    y = f(x)\n",
        "    for i in range(1, n+1):\n",
        "        y += (x - x[0])**i / torch.tensor([math.factorial(i)]).float() * f(x[0] + 0.0)\n",
        "    return y\n",
        "\n",
        "\n",
        "plt.plot(x_vals.numpy(), g(x_vals).numpy(), label='g(x)', lw=5)\n",
        "plt.plot(x_vals.numpy(), taylor(g, x_vals, 1).detach().numpy(), label='Taylor approximation, n=1')\n",
        "plt.plot(x_vals.numpy(), taylor(g, x_vals, 3).detach().numpy(), label='Taylor approximation, n=3')\n",
        "plt.plot(x_vals.numpy(), taylor(g, x_vals, 5).detach().numpy(), label='Taylor approximation, n=5')\n",
        "plt.legend()\n",
        "plt.show()"
      ],
      "id": "381421e9",
      "execution_count": null,
      "outputs": []
    }
  ],
  "metadata": {
    "kernelspec": {
      "name": "python3",
      "language": "python",
      "display_name": "Python 3 (ipykernel)"
    }
  },
  "nbformat": 4,
  "nbformat_minor": 5
}
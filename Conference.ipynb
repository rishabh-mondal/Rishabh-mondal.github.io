{
  "cells": [
    {
      "cell_type": "raw",
      "metadata": {},
      "source": [
        "---\n",
        "title: \"Publications\"\n",
        "---"
      ],
      "id": "f81f38f3"
    },
    {
      "cell_type": "markdown",
      "metadata": {},
      "source": [
        "```{css}\n",
        ".custom-title {\n",
        "    color: blue;\n",
        "}\n",
        "\n",
        ".custom-link {\n",
        "    color: red;\n",
        "}\n",
        "\n",
        "**<font color=\"blue\">Scalable Methods for Brick Kiln Detection and Compliance Monitoring from Satellite Imagery: A Deployment Case Study in India</font color=\"red\">** - [Arxiv](https://realworldml.github.io/neurips2023/).\n",
        "\n",
        "[<font color=\"green\">[code]</font>](https://github.com/rishabh-mondal/NurIPS_BK_Paper)\n",
        "\n",
        "\n",
        "\n",
        "**<font color=\"blue\">Towards Scalable Identification of Brick Kilns from Satellite Imagery with Active Learning</font>** - [NeurIPS 2023 Workshop](https://realworldml.github.io/neurips2023/).\n",
        "\n",
        "[<font color=\"green\">[code]</font>](https://github.com/rishabh-mondal/NurIPS_BK_Paper)\n",
        "\n",
        "**<font color=\"blue\">Recall-Driven Precision Refinement: Unveiling Accurate Fall Detection Using LSTM</font>** - [6TH IFIP IOT CONFERENCE, TEXAS, USA](https://link.springer.com/chapter/10.1007/978-3-031-45882-8_6).\n"
      ],
      "id": "82706551"
    }
  ],
  "metadata": {
    "kernelspec": {
      "display_name": "Python 3",
      "language": "python",
      "name": "python3"
    }
  },
  "nbformat": 4,
  "nbformat_minor": 5
}
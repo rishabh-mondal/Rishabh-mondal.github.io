{
 "cells": [
  {
   "attachments": {},
   "cell_type": "markdown",
   "metadata": {},
   "source": [
    "---\n",
    "title: \"The log-sum-exp trick\"\n",
    "description: \"desp\"\n",
    "author:\n",
    "  - name: Rishab Mondal\n",
    "    url: https://rishabh-mondal.github.io/\n",
    "    #orcid: 0000-0002-5300-3075\n",
    "    #affiliation: Master of Environmental Data Science Program @ The Bren School (UCSB) & The National Center for Ecological Analysis & Synthesis\n",
    "   # affiliation-url: https://ucsb-meds.github.io/ \n",
    "date: 10-24-2022\n",
    "categories: [trick] # self-defined categories\n",
    "#citation: \n",
    " # url: https://github.com/rishabh-mondal/Rishabh-mondal.github.io/blob/main/taylor.qmd \n",
    "#image: preview_image.jpg\n",
    "draft: false # setting this to `true` will prevent your post from appearing on your listing page until you're ready!\n",
    "---"
   ]
  },
  {
   "attachments": {},
   "cell_type": "markdown",
   "metadata": {},
   "source": [
    "### The log-sum-exp trick"
   ]
  },
  {
   "attachments": {},
   "cell_type": "markdown",
   "metadata": {},
   "source": [
    "***The log-sum-exp trick improves stability in exponentiation and logarithmic calculations by operating in the logarithmic domain, avoiding numerical overflow or underflow.***"
   ]
  },
  {
   "cell_type": "code",
   "execution_count": 34,
   "metadata": {},
   "outputs": [],
   "source": [
    "import numpy as np\n"
   ]
  },
  {
   "attachments": {},
   "cell_type": "markdown",
   "metadata": {},
   "source": [
    "***The `log1p` function is a useful tool for calculating the logarithm of 1 + p, particularly when p is a small value. It helps avoid numerical instability issues that can arise when directly computing `np.log(1 + p)` when p is close to zero. By using `log1p`, you can achieve a more accurate and stable calculation of the logarithm.***"
   ]
  },
  {
   "cell_type": "code",
   "execution_count": 35,
   "metadata": {},
   "outputs": [
    {
     "name": "stdout",
     "output_type": "stream",
     "text": [
      "1.000000082690371e-10\n",
      "9.999999999500001e-11\n"
     ]
    }
   ],
   "source": [
    "x = np.array([1, 2, 3, 4, 5])\n",
    "p = 1e-10\n",
    "result = np.log(1 + p)  # Direct computation, can be unstable for small p\n",
    "result_log1p = np.log1p(p)  # More stable computation using log1p\n",
    "print(result)\n",
    "print(result_log1p)\n"
   ]
  },
  {
   "cell_type": "markdown",
   "metadata": {},
   "source": []
  },
  {
   "attachments": {},
   "cell_type": "markdown",
   "metadata": {},
   "source": [
    "***When dealing with small values like 1e-5, using the expression `exp(p) - 1` can result in a loss of precision. In such cases, the function `expm1(p)` is a better alternative as it provides a more accurate result that preserves the precision of the small input value p.***"
   ]
  },
  {
   "cell_type": "code",
   "execution_count": 36,
   "metadata": {},
   "outputs": [
    {
     "name": "stdout",
     "output_type": "stream",
     "text": [
      "Using exp(p) - 1:\n",
      "1.000000082740371e-10\n",
      "Using expm1(p):\n",
      "1.00000000005e-10\n"
     ]
    }
   ],
   "source": [
    "result1 = np.exp(p) - 1\n",
    "result2 = np.expm1(p)\n",
    "\n",
    "print(\"Using exp(p) - 1:\")\n",
    "print(result1)\n",
    "\n",
    "print(\"Using expm1(p):\")\n",
    "print(result2)"
   ]
  },
  {
   "attachments": {},
   "cell_type": "markdown",
   "metadata": {},
   "source": [
    "***Using np.log1p to compute log(1 + p) provides a numerically stable and accurate result of 1e-10, even for small values of p.***"
   ]
  },
  {
   "cell_type": "code",
   "execution_count": 37,
   "metadata": {},
   "outputs": [
    {
     "name": "stdout",
     "output_type": "stream",
     "text": [
      "0.0\n"
     ]
    }
   ],
   "source": [
    "x = 0\n",
    "y = 10\n",
    "\n",
    "result = np.multiply(x, np.log(y))\n",
    "\n",
    "print(result)\n"
   ]
  },
  {
   "attachments": {},
   "cell_type": "markdown",
   "metadata": {},
   "source": [
    "***To avoid numerical instability when computing x log(1 + p) with small values of x and p, it is advisable to use np.log1p instead of directly calculating np.log(1 + p). This ensures better accuracy and stability by preserving the precision of the small input p.***"
   ]
  },
  {
   "cell_type": "code",
   "execution_count": 38,
   "metadata": {},
   "outputs": [
    {
     "name": "stdout",
     "output_type": "stream",
     "text": [
      "1.000000082690371e-10\n",
      "9.999999999500001e-11\n"
     ]
    }
   ],
   "source": [
    "from scipy.special import xlog1py\n",
    "from scipy.special import xlogy\n",
    "\n",
    "\n",
    "x = 1\n",
    "p = 1e-10\n",
    "\n",
    "result = xlogy(x, 1 + p)\n",
    "result1 = xlog1py(x, p)\n",
    "\n",
    "print(result)\n",
    "print(result1)"
   ]
  }
 ],
 "metadata": {
  "kernelspec": {
   "display_name": "base",
   "language": "python",
   "name": "python3"
  },
  "language_info": {
   "codemirror_mode": {
    "name": "ipython",
    "version": 3
   },
   "file_extension": ".py",
   "mimetype": "text/x-python",
   "name": "python",
   "nbconvert_exporter": "python",
   "pygments_lexer": "ipython3",
   "version": "3.10.9"
  },
  "orig_nbformat": 4
 },
 "nbformat": 4,
 "nbformat_minor": 2
}

{
 "cells": [
  {
   "attachments": {},
   "cell_type": "markdown",
   "metadata": {},
   "source": []
  },
  {
   "attachments": {},
   "cell_type": "markdown",
   "metadata": {},
   "source": [
    "**Implementing a pseudo-random number generator (PRNG)** - An algorithm that generates a sequence of numbers that exhibit properties of randomness"
   ]
  },
  {
   "attachments": {},
   "cell_type": "markdown",
   "metadata": {},
   "source": [
    "**Linear Congruential Generator (LCG)** is a simple PRNG algorithm - The LCG algorithm is defined by the recurrence relation:\n",
    "\n",
    "$X_{n+1} = (a \\cdot X_n + c) \\mod m$\n",
    "\n",
    "- $X_{n+1}$ represents the next pseudo-random number in the sequence.\n",
    "- $X_n$ is the current pseudo-random number in the sequence.\n",
    "- $a$ is the multiplier, which determines the overall distribution and period of the generated sequence.\n",
    "- $c$ is the increment, which shifts the generated sequence.\n",
    "- $m$ is the modulus, which determines the range of values that the generated numbers can take.\n",
    "\n"
   ]
  },
  {
   "cell_type": "code",
   "execution_count": 27,
   "metadata": {},
   "outputs": [],
   "source": [
    "def lcg(seed, n_samples):\n",
    "    \"\"\"\n",
    "    Generates a sequence of pseudo-random numbers using the Linear Congruential Generator (LCG) algorithm.\n",
    "\n",
    "    Args:\n",
    "        seed (int): The seed value for the LCG algorithm.\n",
    "        n_samples (int): The number of random numbers to generate.\n",
    "\n",
    "    Returns:\n",
    "        list: A list of pseudo-random numbers normalized to the range [0, 1].\n",
    "    \"\"\"\n",
    "    a = 1103515245\n",
    "    c = 12345\n",
    "    m = 2 ** 31\n",
    "    random_numbers = []\n",
    "\n",
    "    for _ in range(n_samples):\n",
    "        seed = (a * seed + c) % m\n",
    "        random_number = seed / m  # Normalize to range [0, 1]\n",
    "        random_numbers.append(random_number)\n",
    "\n",
    "    return random_numbers\n",
    "\n",
    "# Example usage:\n",
    "random_numbers = lcg(42, 10000)\n"
   ]
  },
  {
   "attachments": {},
   "cell_type": "markdown",
   "metadata": {},
   "source": [
    "Plot histogram"
   ]
  },
  {
   "cell_type": "code",
   "execution_count": 28,
   "metadata": {},
   "outputs": [
    {
     "name": "stderr",
     "output_type": "stream",
     "text": [
      "findfont: Generic family 'sans-serif' not found because none of the following families were found: Roboto Condensed\n",
      "findfont: Generic family 'sans-serif' not found because none of the following families were found: Roboto Condensed\n",
      "findfont: Generic family 'sans-serif' not found because none of the following families were found: Roboto Condensed\n",
      "findfont: Generic family 'sans-serif' not found because none of the following families were found: Roboto Condensed\n",
      "findfont: Generic family 'sans-serif' not found because none of the following families were found: Roboto Condensed\n",
      "findfont: Generic family 'sans-serif' not found because none of the following families were found: Roboto Condensed\n",
      "findfont: Generic family 'sans-serif' not found because none of the following families were found: Roboto Condensed\n",
      "findfont: Generic family 'sans-serif' not found because none of the following families were found: Roboto Condensed\n",
      "findfont: Generic family 'sans-serif' not found because none of the following families were found: Roboto Condensed\n",
      "findfont: Generic family 'sans-serif' not found because none of the following families were found: Roboto Condensed\n",
      "findfont: Generic family 'sans-serif' not found because none of the following families were found: Roboto Condensed\n",
      "findfont: Generic family 'sans-serif' not found because none of the following families were found: Roboto Condensed\n",
      "findfont: Generic family 'sans-serif' not found because none of the following families were found: Roboto Condensed\n",
      "findfont: Generic family 'sans-serif' not found because none of the following families were found: Roboto Condensed\n",
      "findfont: Generic family 'sans-serif' not found because none of the following families were found: Roboto Condensed\n",
      "findfont: Generic family 'sans-serif' not found because none of the following families were found: Roboto Condensed\n",
      "findfont: Generic family 'sans-serif' not found because none of the following families were found: Roboto Condensed\n",
      "findfont: Generic family 'sans-serif' not found because none of the following families were found: Roboto Condensed\n"
     ]
    },
    {
     "name": "stderr",
     "output_type": "stream",
     "text": [
      "findfont: Generic family 'sans-serif' not found because none of the following families were found: Roboto Condensed\n",
      "findfont: Generic family 'sans-serif' not found because none of the following families were found: Roboto Condensed\n",
      "findfont: Generic family 'sans-serif' not found because none of the following families were found: Roboto Condensed\n",
      "findfont: Generic family 'sans-serif' not found because none of the following families were found: Roboto Condensed\n",
      "findfont: Generic family 'sans-serif' not found because none of the following families were found: Roboto Condensed\n",
      "findfont: Generic family 'sans-serif' not found because none of the following families were found: Roboto Condensed\n",
      "findfont: Generic family 'sans-serif' not found because none of the following families were found: Roboto Condensed\n",
      "findfont: Generic family 'sans-serif' not found because none of the following families were found: Roboto Condensed\n",
      "findfont: Generic family 'sans-serif' not found because none of the following families were found: Roboto Condensed\n",
      "findfont: Generic family 'sans-serif' not found because none of the following families were found: Roboto Condensed\n",
      "findfont: Generic family 'sans-serif' not found because none of the following families were found: Roboto Condensed\n",
      "findfont: Generic family 'sans-serif' not found because none of the following families were found: Roboto Condensed\n",
      "findfont: Generic family 'sans-serif' not found because none of the following families were found: Roboto Condensed\n",
      "findfont: Generic family 'sans-serif' not found because none of the following families were found: Roboto Condensed\n",
      "findfont: Generic family 'sans-serif' not found because none of the following families were found: Roboto Condensed\n",
      "findfont: Generic family 'sans-serif' not found because none of the following families were found: Roboto Condensed\n",
      "findfont: Generic family 'sans-serif' not found because none of the following families were found: Roboto Condensed\n",
      "findfont: Generic family 'sans-serif' not found because none of the following families were found: Roboto Condensed\n",
      "findfont: Generic family 'sans-serif' not found because none of the following families were found: Roboto Condensed\n",
      "findfont: Generic family 'sans-serif' not found because none of the following families were found: Roboto Condensed\n",
      "findfont: Generic family 'sans-serif' not found because none of the following families were found: Roboto Condensed\n",
      "findfont: Generic family 'sans-serif' not found because none of the following families were found: Roboto Condensed\n",
      "findfont: Generic family 'sans-serif' not found because none of the following families were found: Roboto Condensed\n",
      "findfont: Generic family 'sans-serif' not found because none of the following families were found: Roboto Condensed\n",
      "findfont: Generic family 'sans-serif' not found because none of the following families were found: Roboto Condensed\n",
      "findfont: Generic family 'sans-serif' not found because none of the following families were found: Roboto Condensed\n",
      "findfont: Generic family 'sans-serif' not found because none of the following families were found: Roboto Condensed\n",
      "findfont: Generic family 'sans-serif' not found because none of the following families were found: Roboto Condensed\n",
      "findfont: Generic family 'sans-serif' not found because none of the following families were found: Roboto Condensed\n",
      "findfont: Generic family 'sans-serif' not found because none of the following families were found: Roboto Condensed\n",
      "findfont: Generic family 'sans-serif' not found because none of the following families were found: Roboto Condensed\n",
      "findfont: Generic family 'sans-serif' not found because none of the following families were found: Roboto Condensed\n",
      "findfont: Generic family 'sans-serif' not found because none of the following families were found: Roboto Condensed\n"
     ]
    },
    {
     "data": {
      "image/png": "[encoded data removed]",
      "text/plain": [
       "<Figure size 551.181x248.032 with 1 Axes>"
      ]
     },
     "metadata": {
      "needs_background": "light"
     },
     "output_type": "display_data"
    }
   ],
   "source": [
    "import matplotlib.pyplot as plt\n",
    "plt.hist(random_numbers, bins=20)\n",
    "plt.xlabel('Random Number')\n",
    "plt.ylabel('Frequency')\n",
    "plt.title('Histogram of Pseudo-random Numbers')\n",
    "plt.show()"
   ]
  },
  {
   "attachments": {},
   "cell_type": "markdown",
   "metadata": {},
   "source": [
    "**Using PyTorch**"
   ]
  },
  {
   "cell_type": "code",
   "execution_count": 29,
   "metadata": {},
   "outputs": [
    {
     "name": "stderr",
     "output_type": "stream",
     "text": [
      "findfont: Generic family 'sans-serif' not found because none of the following families were found: Roboto Condensed\n",
      "findfont: Generic family 'sans-serif' not found because none of the following families were found: Roboto Condensed\n",
      "findfont: Generic family 'sans-serif' not found because none of the following families were found: Roboto Condensed\n"
     ]
    },
    {
     "name": "stderr",
     "output_type": "stream",
     "text": [
      "findfont: Generic family 'sans-serif' not found because none of the following families were found: Roboto Condensed\n",
      "findfont: Generic family 'sans-serif' not found because none of the following families were found: Roboto Condensed\n",
      "findfont: Generic family 'sans-serif' not found because none of the following families were found: Roboto Condensed\n",
      "findfont: Generic family 'sans-serif' not found because none of the following families were found: Roboto Condensed\n",
      "findfont: Generic family 'sans-serif' not found because none of the following families were found: Roboto Condensed\n",
      "findfont: Generic family 'sans-serif' not found because none of the following families were found: Roboto Condensed\n",
      "findfont: Generic family 'sans-serif' not found because none of the following families were found: Roboto Condensed\n",
      "findfont: Generic family 'sans-serif' not found because none of the following families were found: Roboto Condensed\n",
      "findfont: Generic family 'sans-serif' not found because none of the following families were found: Roboto Condensed\n",
      "findfont: Generic family 'sans-serif' not found because none of the following families were found: Roboto Condensed\n",
      "findfont: Generic family 'sans-serif' not found because none of the following families were found: Roboto Condensed\n",
      "findfont: Generic family 'sans-serif' not found because none of the following families were found: Roboto Condensed\n",
      "findfont: Generic family 'sans-serif' not found because none of the following families were found: Roboto Condensed\n",
      "findfont: Generic family 'sans-serif' not found because none of the following families were found: Roboto Condensed\n",
      "findfont: Generic family 'sans-serif' not found because none of the following families were found: Roboto Condensed\n",
      "findfont: Generic family 'sans-serif' not found because none of the following families were found: Roboto Condensed\n",
      "findfont: Generic family 'sans-serif' not found because none of the following families were found: Roboto Condensed\n",
      "findfont: Generic family 'sans-serif' not found because none of the following families were found: Roboto Condensed\n",
      "findfont: Generic family 'sans-serif' not found because none of the following families were found: Roboto Condensed\n",
      "findfont: Generic family 'sans-serif' not found because none of the following families were found: Roboto Condensed\n",
      "findfont: Generic family 'sans-serif' not found because none of the following families were found: Roboto Condensed\n",
      "findfont: Generic family 'sans-serif' not found because none of the following families were found: Roboto Condensed\n",
      "findfont: Generic family 'sans-serif' not found because none of the following families were found: Roboto Condensed\n",
      "findfont: Generic family 'sans-serif' not found because none of the following families were found: Roboto Condensed\n",
      "findfont: Generic family 'sans-serif' not found because none of the following families were found: Roboto Condensed\n",
      "findfont: Generic family 'sans-serif' not found because none of the following families were found: Roboto Condensed\n",
      "findfont: Generic family 'sans-serif' not found because none of the following families were found: Roboto Condensed\n",
      "findfont: Generic family 'sans-serif' not found because none of the following families were found: Roboto Condensed\n",
      "findfont: Generic family 'sans-serif' not found because none of the following families were found: Roboto Condensed\n",
      "findfont: Generic family 'sans-serif' not found because none of the following families were found: Roboto Condensed\n",
      "findfont: Generic family 'sans-serif' not found because none of the following families were found: Roboto Condensed\n",
      "findfont: Generic family 'sans-serif' not found because none of the following families were found: Roboto Condensed\n",
      "findfont: Generic family 'sans-serif' not found because none of the following families were found: Roboto Condensed\n",
      "findfont: Generic family 'sans-serif' not found because none of the following families were found: Roboto Condensed\n",
      "findfont: Generic family 'sans-serif' not found because none of the following families were found: Roboto Condensed\n",
      "findfont: Generic family 'sans-serif' not found because none of the following families were found: Roboto Condensed\n",
      "findfont: Generic family 'sans-serif' not found because none of the following families were found: Roboto Condensed\n",
      "findfont: Generic family 'sans-serif' not found because none of the following families were found: Roboto Condensed\n",
      "findfont: Generic family 'sans-serif' not found because none of the following families were found: Roboto Condensed\n",
      "findfont: Generic family 'sans-serif' not found because none of the following families were found: Roboto Condensed\n",
      "findfont: Generic family 'sans-serif' not found because none of the following families were found: Roboto Condensed\n",
      "findfont: Generic family 'sans-serif' not found because none of the following families were found: Roboto Condensed\n",
      "findfont: Generic family 'sans-serif' not found because none of the following families were found: Roboto Condensed\n",
      "findfont: Generic family 'sans-serif' not found because none of the following families were found: Roboto Condensed\n",
      "findfont: Generic family 'sans-serif' not found because none of the following families were found: Roboto Condensed\n",
      "findfont: Generic family 'sans-serif' not found because none of the following families were found: Roboto Condensed\n",
      "findfont: Generic family 'sans-serif' not found because none of the following families were found: Roboto Condensed\n",
      "findfont: Generic family 'sans-serif' not found because none of the following families were found: Roboto Condensed\n"
     ]
    },
    {
     "data": {
      "image/png": "[encoded data removed]",
      "text/plain": [
       "<Figure size 551.181x248.032 with 1 Axes>"
      ]
     },
     "metadata": {
      "needs_background": "light"
     },
     "output_type": "display_data"
    }
   ],
   "source": [
    "import torch\n",
    "import torch.distributions as dist\n",
    "\n",
    "# Generate random numbers using PyTorch distribution\n",
    "distribution = torch.distributions.Uniform(0, 1)\n",
    "random_numbers = distribution.sample((10000,))\n",
    "\n",
    "# Plot the histogram\n",
    "plt.hist(random_numbers.numpy(), bins=20)\n",
    "plt.xlabel('Random Number')\n",
    "plt.ylabel('Frequency')\n",
    "plt.title('Histogram of Pseudo-random Numbers')\n",
    "plt.show()"
   ]
  },
  {
   "attachments": {},
   "cell_type": "markdown",
   "metadata": {},
   "source": [
    "Convert **Unifom Sampling** to **Bernoulli Sampling**  "
   ]
  },
  {
   "attachments": {},
   "cell_type": "markdown",
   "metadata": {},
   "source": [
    "we can use the probablity $(p)$ of outcome 1 and $(1-p)$ of outcome 0"
   ]
  },
  {
   "cell_type": "code",
   "execution_count": 30,
   "metadata": {},
   "outputs": [],
   "source": [
    "\n",
    "def uniform_to_bernoulli(seed, n_samples, threshold):\n",
    "    \"\"\"\n",
    "    Generates a sequence of pseudo-random numbers from a uniform distribution and converts them to a Bernoulli distribution.\n",
    "\n",
    "    Args:\n",
    "        seed (int): The seed value for the random number generator.\n",
    "        n_samples (int): The number of random numbers to generate.\n",
    "        threshold (float): The threshold value to convert uniform numbers to Bernoulli distribution.\n",
    "            Numbers below the threshold are considered as 0, and numbers equal to or above the threshold are considered as 1.\n",
    "            Default is 0.5.\n",
    "\n",
    "    Returns:\n",
    "        torch.Tensor: A tensor of pseudo-random numbers following the Bernoulli distribution.\n",
    "    \"\"\"\n",
    "    torch.manual_seed(seed)\n",
    "    uniform_numbers = torch.rand(n_samples)\n",
    "    bernoulli_numbers = (uniform_numbers >= threshold).float()\n",
    "\n",
    "    return bernoulli_numbers\n"
   ]
  },
  {
   "cell_type": "code",
   "execution_count": 31,
   "metadata": {},
   "outputs": [
    {
     "name": "stderr",
     "output_type": "stream",
     "text": [
      "findfont: Generic family 'sans-serif' not found because none of the following families were found: Roboto Condensed\n",
      "findfont: Generic family 'sans-serif' not found because none of the following families were found: Roboto Condensed\n",
      "findfont: Generic family 'sans-serif' not found because none of the following families were found: Roboto Condensed\n",
      "findfont: Generic family 'sans-serif' not found because none of the following families were found: Roboto Condensed\n",
      "findfont: Generic family 'sans-serif' not found because none of the following families were found: Roboto Condensed\n",
      "findfont: Generic family 'sans-serif' not found because none of the following families were found: Roboto Condensed\n",
      "findfont: Generic family 'sans-serif' not found because none of the following families were found: Roboto Condensed\n",
      "findfont: Generic family 'sans-serif' not found because none of the following families were found: Roboto Condensed\n",
      "findfont: Generic family 'sans-serif' not found because none of the following families were found: Roboto Condensed\n",
      "findfont: Generic family 'sans-serif' not found because none of the following families were found: Roboto Condensed\n",
      "findfont: Generic family 'sans-serif' not found because none of the following families were found: Roboto Condensed\n",
      "findfont: Generic family 'sans-serif' not found because none of the following families were found: Roboto Condensed\n",
      "findfont: Generic family 'sans-serif' not found because none of the following families were found: Roboto Condensed\n",
      "findfont: Generic family 'sans-serif' not found because none of the following families were found: Roboto Condensed\n"
     ]
    },
    {
     "name": "stderr",
     "output_type": "stream",
     "text": [
      "findfont: Generic family 'sans-serif' not found because none of the following families were found: Roboto Condensed\n",
      "findfont: Generic family 'sans-serif' not found because none of the following families were found: Roboto Condensed\n",
      "findfont: Generic family 'sans-serif' not found because none of the following families were found: Roboto Condensed\n",
      "findfont: Generic family 'sans-serif' not found because none of the following families were found: Roboto Condensed\n",
      "findfont: Generic family 'sans-serif' not found because none of the following families were found: Roboto Condensed\n",
      "findfont: Generic family 'sans-serif' not found because none of the following families were found: Roboto Condensed\n",
      "findfont: Generic family 'sans-serif' not found because none of the following families were found: Roboto Condensed\n",
      "findfont: Generic family 'sans-serif' not found because none of the following families were found: Roboto Condensed\n",
      "findfont: Generic family 'sans-serif' not found because none of the following families were found: Roboto Condensed\n",
      "findfont: Generic family 'sans-serif' not found because none of the following families were found: Roboto Condensed\n",
      "findfont: Generic family 'sans-serif' not found because none of the following families were found: Roboto Condensed\n",
      "findfont: Generic family 'sans-serif' not found because none of the following families were found: Roboto Condensed\n",
      "findfont: Generic family 'sans-serif' not found because none of the following families were found: Roboto Condensed\n",
      "findfont: Generic family 'sans-serif' not found because none of the following families were found: Roboto Condensed\n",
      "findfont: Generic family 'sans-serif' not found because none of the following families were found: Roboto Condensed\n",
      "findfont: Generic family 'sans-serif' not found because none of the following families were found: Roboto Condensed\n",
      "findfont: Generic family 'sans-serif' not found because none of the following families were found: Roboto Condensed\n",
      "findfont: Generic family 'sans-serif' not found because none of the following families were found: Roboto Condensed\n",
      "findfont: Generic family 'sans-serif' not found because none of the following families were found: Roboto Condensed\n",
      "findfont: Generic family 'sans-serif' not found because none of the following families were found: Roboto Condensed\n",
      "findfont: Generic family 'sans-serif' not found because none of the following families were found: Roboto Condensed\n",
      "findfont: Generic family 'sans-serif' not found because none of the following families were found: Roboto Condensed\n",
      "findfont: Generic family 'sans-serif' not found because none of the following families were found: Roboto Condensed\n",
      "findfont: Generic family 'sans-serif' not found because none of the following families were found: Roboto Condensed\n",
      "findfont: Generic family 'sans-serif' not found because none of the following families were found: Roboto Condensed\n",
      "findfont: Generic family 'sans-serif' not found because none of the following families were found: Roboto Condensed\n",
      "findfont: Generic family 'sans-serif' not found because none of the following families were found: Roboto Condensed\n",
      "findfont: Generic family 'sans-serif' not found because none of the following families were found: Roboto Condensed\n",
      "findfont: Generic family 'sans-serif' not found because none of the following families were found: Roboto Condensed\n"
     ]
    },
    {
     "data": {
      "image/png": "[encoded data removed]",
      "text/plain": [
       "<Figure size 551.181x248.032 with 1 Axes>"
      ]
     },
     "metadata": {
      "needs_background": "light"
     },
     "output_type": "display_data"
    }
   ],
   "source": [
    "random_numbers = uniform_to_bernoulli(42, 10000,.3)\n",
    "\n",
    "# Count the occurrences of each category\n",
    "category_counts = torch.bincount(random_numbers.long(), minlength=2)\n",
    "\n",
    "# Plot the categories with counts\n",
    "categories = ['0', '1']\n",
    "plt.bar(categories, category_counts)\n",
    "plt.xlabel('label')\n",
    "plt.ylabel('Count')\n",
    "plt.title('Bernoulli Distribution')\n",
    "plt.show()"
   ]
  },
  {
   "attachments": {},
   "cell_type": "markdown",
   "metadata": {},
   "source": [
    "***Function for uniform to Categorical***\n"
   ]
  },
  {
   "cell_type": "code",
   "execution_count": 32,
   "metadata": {},
   "outputs": [],
   "source": [
    "def uniform_to_categorical(seed, n_samples, num_categories):\n",
    "    \"\"\"\n",
    "    Converts pseudo-random numbers from a uniform distribution to a categorical distribution.\n",
    "\n",
    "    Args:\n",
    "        seed (int): The seed value for the random number generator.\n",
    "        n_samples (int): The number of random numbers to generate.\n",
    "        num_categories (int): The number of categories for the categorical distribution.\n",
    "\n",
    "    Returns:\n",
    "        torch.Tensor: A tensor of pseudo-random numbers following the categorical distribution.\n",
    "    \"\"\"\n",
    "    torch.manual_seed(seed)\n",
    "    uniform_numbers = torch.rand(n_samples)\n",
    "    categorical_distribution = dist.Categorical(torch.ones(num_categories))\n",
    "    categorical_numbers = categorical_distribution.sample((n_samples,))\n",
    "\n",
    "    return categorical_numbers\n",
    "\n",
    "random_numbers = uniform_to_categorical(42, 100, 5)\n",
    "\n",
    "\n"
   ]
  },
  {
   "attachments": {},
   "cell_type": "markdown",
   "metadata": {},
   "source": [
    "***Plot of Uniform to Categorical distribution***"
   ]
  },
  {
   "cell_type": "code",
   "execution_count": 33,
   "metadata": {},
   "outputs": [
    {
     "name": "stderr",
     "output_type": "stream",
     "text": [
      "findfont: Generic family 'sans-serif' not found because none of the following families were found: Roboto Condensed\n",
      "findfont: Generic family 'sans-serif' not found because none of the following families were found: Roboto Condensed\n",
      "findfont: Generic family 'sans-serif' not found because none of the following families were found: Roboto Condensed\n",
      "findfont: Generic family 'sans-serif' not found because none of the following families were found: Roboto Condensed\n",
      "findfont: Generic family 'sans-serif' not found because none of the following families were found: Roboto Condensed\n",
      "findfont: Generic family 'sans-serif' not found because none of the following families were found: Roboto Condensed\n",
      "findfont: Generic family 'sans-serif' not found because none of the following families were found: Roboto Condensed\n",
      "findfont: Generic family 'sans-serif' not found because none of the following families were found: Roboto Condensed\n",
      "findfont: Generic family 'sans-serif' not found because none of the following families were found: Roboto Condensed\n",
      "findfont: Generic family 'sans-serif' not found because none of the following families were found: Roboto Condensed\n"
     ]
    },
    {
     "name": "stdout",
     "output_type": "stream",
     "text": [
      "tensor([0.2000, 0.2100, 0.2000, 0.2400, 0.1500])\n"
     ]
    },
    {
     "name": "stderr",
     "output_type": "stream",
     "text": [
      "findfont: Generic family 'sans-serif' not found because none of the following families were found: Roboto Condensed\n",
      "findfont: Generic family 'sans-serif' not found because none of the following families were found: Roboto Condensed\n",
      "findfont: Generic family 'sans-serif' not found because none of the following families were found: Roboto Condensed\n",
      "findfont: Generic family 'sans-serif' not found because none of the following families were found: Roboto Condensed\n",
      "findfont: Generic family 'sans-serif' not found because none of the following families were found: Roboto Condensed\n",
      "findfont: Generic family 'sans-serif' not found because none of the following families were found: Roboto Condensed\n",
      "findfont: Generic family 'sans-serif' not found because none of the following families were found: Roboto Condensed\n",
      "findfont: Generic family 'sans-serif' not found because none of the following families were found: Roboto Condensed\n",
      "findfont: Generic family 'sans-serif' not found because none of the following families were found: Roboto Condensed\n",
      "findfont: Generic family 'sans-serif' not found because none of the following families were found: Roboto Condensed\n",
      "findfont: Generic family 'sans-serif' not found because none of the following families were found: Roboto Condensed\n",
      "findfont: Generic family 'sans-serif' not found because none of the following families were found: Roboto Condensed\n",
      "findfont: Generic family 'sans-serif' not found because none of the following families were found: Roboto Condensed\n",
      "findfont: Generic family 'sans-serif' not found because none of the following families were found: Roboto Condensed\n",
      "findfont: Generic family 'sans-serif' not found because none of the following families were found: Roboto Condensed\n",
      "findfont: Generic family 'sans-serif' not found because none of the following families were found: Roboto Condensed\n",
      "findfont: Generic family 'sans-serif' not found because none of the following families were found: Roboto Condensed\n",
      "findfont: Generic family 'sans-serif' not found because none of the following families were found: Roboto Condensed\n",
      "findfont: Generic family 'sans-serif' not found because none of the following families were found: Roboto Condensed\n",
      "findfont: Generic family 'sans-serif' not found because none of the following families were found: Roboto Condensed\n",
      "findfont: Generic family 'sans-serif' not found because none of the following families were found: Roboto Condensed\n",
      "findfont: Generic family 'sans-serif' not found because none of the following families were found: Roboto Condensed\n",
      "findfont: Generic family 'sans-serif' not found because none of the following families were found: Roboto Condensed\n",
      "findfont: Generic family 'sans-serif' not found because none of the following families were found: Roboto Condensed\n",
      "findfont: Generic family 'sans-serif' not found because none of the following families were found: Roboto Condensed\n",
      "findfont: Generic family 'sans-serif' not found because none of the following families were found: Roboto Condensed\n",
      "findfont: Generic family 'sans-serif' not found because none of the following families were found: Roboto Condensed\n",
      "findfont: Generic family 'sans-serif' not found because none of the following families were found: Roboto Condensed\n",
      "findfont: Generic family 'sans-serif' not found because none of the following families were found: Roboto Condensed\n",
      "findfont: Generic family 'sans-serif' not found because none of the following families were found: Roboto Condensed\n",
      "findfont: Generic family 'sans-serif' not found because none of the following families were found: Roboto Condensed\n",
      "findfont: Generic family 'sans-serif' not found because none of the following families were found: Roboto Condensed\n",
      "findfont: Generic family 'sans-serif' not found because none of the following families were found: Roboto Condensed\n",
      "findfont: Generic family 'sans-serif' not found because none of the following families were found: Roboto Condensed\n",
      "findfont: Generic family 'sans-serif' not found because none of the following families were found: Roboto Condensed\n",
      "findfont: Generic family 'sans-serif' not found because none of the following families were found: Roboto Condensed\n",
      "findfont: Generic family 'sans-serif' not found because none of the following families were found: Roboto Condensed\n",
      "findfont: Generic family 'sans-serif' not found because none of the following families were found: Roboto Condensed\n"
     ]
    },
    {
     "data": {
      "image/png": "[encoded data removed]",
      "text/plain": [
       "<Figure size 551.181x248.032 with 1 Axes>"
      ]
     },
     "metadata": {
      "needs_background": "light"
     },
     "output_type": "display_data"
    }
   ],
   "source": [
    "random_numbers = uniform_to_categorical(42, 100, 5)\n",
    "\n",
    "# Count the occurrences of each category\n",
    "category_counts = torch.bincount(random_numbers)\n",
    "\n",
    "# Compute the probabilities\n",
    "probabilities = category_counts.float() / random_numbers.size(0)\n",
    "print(probabilities)\n",
    "# Plot the categories with probabilities\n",
    "plt.bar(range(len(probabilities)), probabilities)\n",
    "plt.xlabel('Category')\n",
    "plt.ylabel('Probability')\n",
    "plt.title('Categorical Distribution')\n",
    "plt.show()"
   ]
  },
  {
   "attachments": {},
   "cell_type": "markdown",
   "metadata": {},
   "source": [
    "### Uniform to Normal sampling"
   ]
  },
  {
   "attachments": {},
   "cell_type": "markdown",
   "metadata": {},
   "source": [
    "***Box Muller Method***"
   ]
  },
  {
   "cell_type": "code",
   "execution_count": 34,
   "metadata": {},
   "outputs": [],
   "source": [
    "import math\n",
    "def uniform_to_normal_boxmuller(n_samples):\n",
    "    \"\"\"\n",
    "    Generates a sequence of pseudo-random numbers from a standard normal distribution using the Box-Muller method.\n",
    "\n",
    "    Args:\n",
    "        n_samples (int): The number of random numbers to generate.\n",
    "\n",
    "    Returns:\n",
    "        torch.Tensor: A tensor of pseudo-random numbers following the standard normal distribution.\n",
    "    \"\"\"\n",
    "    uniform_distribution = dist.Uniform(0, 1)\n",
    "    random_numbers = []\n",
    "\n",
    "    for _ in range(n_samples // 2):\n",
    "        u1 = uniform_distribution.sample()\n",
    "        u2 = uniform_distribution.sample()\n",
    "\n",
    "        z1 = torch.sqrt(-2 * torch.log(u1)) * torch.cos(2 * math.pi * u2)\n",
    "        z2 = torch.sqrt(-2 * torch.log(u1)) * torch.sin(2 * math.pi * u2)\n",
    "\n",
    "        random_numbers.append(z1)\n",
    "        random_numbers.append(z2)\n",
    "\n",
    "    if n_samples % 2 != 0:\n",
    "        u = uniform_distribution.sample()\n",
    "        z = torch.sqrt(-2 * torch.log(u)) * torch.cos(2 * math.pi * uniform_distribution.sample())\n",
    "        random_numbers.append(z)\n",
    "\n",
    "    return torch.stack(random_numbers)"
   ]
  },
  {
   "cell_type": "code",
   "execution_count": 35,
   "metadata": {},
   "outputs": [
    {
     "name": "stderr",
     "output_type": "stream",
     "text": [
      "findfont: Generic family 'sans-serif' not found because none of the following families were found: Roboto Condensed\n",
      "findfont: Generic family 'sans-serif' not found because none of the following families were found: Roboto Condensed\n",
      "findfont: Generic family 'sans-serif' not found because none of the following families were found: Roboto Condensed\n",
      "findfont: Generic family 'sans-serif' not found because none of the following families were found: Roboto Condensed\n",
      "findfont: Generic family 'sans-serif' not found because none of the following families were found: Roboto Condensed\n",
      "findfont: Generic family 'sans-serif' not found because none of the following families were found: Roboto Condensed\n",
      "findfont: Generic family 'sans-serif' not found because none of the following families were found: Roboto Condensed\n",
      "findfont: Generic family 'sans-serif' not found because none of the following families were found: Roboto Condensed\n",
      "findfont: Generic family 'sans-serif' not found because none of the following families were found: Roboto Condensed\n",
      "findfont: Generic family 'sans-serif' not found because none of the following families were found: Roboto Condensed\n",
      "findfont: Generic family 'sans-serif' not found because none of the following families were found: Roboto Condensed\n",
      "findfont: Generic family 'sans-serif' not found because none of the following families were found: Roboto Condensed\n",
      "findfont: Generic family 'sans-serif' not found because none of the following families were found: Roboto Condensed\n",
      "findfont: Generic family 'sans-serif' not found because none of the following families were found: Roboto Condensed\n",
      "findfont: Generic family 'sans-serif' not found because none of the following families were found: Roboto Condensed\n",
      "findfont: Generic family 'sans-serif' not found because none of the following families were found: Roboto Condensed\n",
      "findfont: Generic family 'sans-serif' not found because none of the following families were found: Roboto Condensed\n",
      "findfont: Generic family 'sans-serif' not found because none of the following families were found: Roboto Condensed\n",
      "findfont: Generic family 'sans-serif' not found because none of the following families were found: Roboto Condensed\n",
      "findfont: Generic family 'sans-serif' not found because none of the following families were found: Roboto Condensed\n",
      "findfont: Generic family 'sans-serif' not found because none of the following families were found: Roboto Condensed\n",
      "findfont: Generic family 'sans-serif' not found because none of the following families were found: Roboto Condensed\n",
      "findfont: Generic family 'sans-serif' not found because none of the following families were found: Roboto Condensed\n",
      "findfont: Generic family 'sans-serif' not found because none of the following families were found: Roboto Condensed\n",
      "findfont: Generic family 'sans-serif' not found because none of the following families were found: Roboto Condensed\n",
      "findfont: Generic family 'sans-serif' not found because none of the following families were found: Roboto Condensed\n",
      "findfont: Generic family 'sans-serif' not found because none of the following families were found: Roboto Condensed\n",
      "findfont: Generic family 'sans-serif' not found because none of the following families were found: Roboto Condensed\n",
      "findfont: Generic family 'sans-serif' not found because none of the following families were found: Roboto Condensed\n",
      "findfont: Generic family 'sans-serif' not found because none of the following families were found: Roboto Condensed\n",
      "findfont: Generic family 'sans-serif' not found because none of the following families were found: Roboto Condensed\n",
      "findfont: Generic family 'sans-serif' not found because none of the following families were found: Roboto Condensed\n",
      "findfont: Generic family 'sans-serif' not found because none of the following families were found: Roboto Condensed\n",
      "findfont: Generic family 'sans-serif' not found because none of the following families were found: Roboto Condensed\n",
      "findfont: Generic family 'sans-serif' not found because none of the following families were found: Roboto Condensed\n",
      "findfont: Generic family 'sans-serif' not found because none of the following families were found: Roboto Condensed\n",
      "findfont: Generic family 'sans-serif' not found because none of the following families were found: Roboto Condensed\n",
      "findfont: Generic family 'sans-serif' not found because none of the following families were found: Roboto Condensed\n",
      "findfont: Generic family 'sans-serif' not found because none of the following families were found: Roboto Condensed\n",
      "findfont: Generic family 'sans-serif' not found because none of the following families were found: Roboto Condensed\n",
      "findfont: Generic family 'sans-serif' not found because none of the following families were found: Roboto Condensed\n",
      "findfont: Generic family 'sans-serif' not found because none of the following families were found: Roboto Condensed\n",
      "findfont: Generic family 'sans-serif' not found because none of the following families were found: Roboto Condensed\n",
      "findfont: Generic family 'sans-serif' not found because none of the following families were found: Roboto Condensed\n",
      "findfont: Generic family 'sans-serif' not found because none of the following families were found: Roboto Condensed\n",
      "findfont: Generic family 'sans-serif' not found because none of the following families were found: Roboto Condensed\n",
      "findfont: Generic family 'sans-serif' not found because none of the following families were found: Roboto Condensed\n",
      "findfont: Generic family 'sans-serif' not found because none of the following families were found: Roboto Condensed\n",
      "findfont: Generic family 'sans-serif' not found because none of the following families were found: Roboto Condensed\n",
      "findfont: Generic family 'sans-serif' not found because none of the following families were found: Roboto Condensed\n",
      "findfont: Generic family 'sans-serif' not found because none of the following families were found: Roboto Condensed\n",
      "findfont: Generic family 'sans-serif' not found because none of the following families were found: Roboto Condensed\n",
      "findfont: Generic family 'sans-serif' not found because none of the following families were found: Roboto Condensed\n",
      "findfont: Generic family 'sans-serif' not found because none of the following families were found: Roboto Condensed\n",
      "findfont: Generic family 'sans-serif' not found because none of the following families were found: Roboto Condensed\n",
      "findfont: Generic family 'sans-serif' not found because none of the following families were found: Roboto Condensed\n",
      "findfont: Generic family 'sans-serif' not found because none of the following families were found: Roboto Condensed\n",
      "findfont: Generic family 'sans-serif' not found because none of the following families were found: Roboto Condensed\n",
      "findfont: Generic family 'sans-serif' not found because none of the following families were found: Roboto Condensed\n",
      "findfont: Generic family 'sans-serif' not found because none of the following families were found: Roboto Condensed\n",
      "findfont: Generic family 'sans-serif' not found because none of the following families were found: Roboto Condensed\n",
      "findfont: Generic family 'sans-serif' not found because none of the following families were found: Roboto Condensed\n",
      "findfont: Generic family 'sans-serif' not found because none of the following families were found: Roboto Condensed\n"
     ]
    },
    {
     "data": {
      "image/png": "[encoded data removed]",
      "text/plain": [
       "<Figure size 551.181x248.032 with 1 Axes>"
      ]
     },
     "metadata": {
      "needs_background": "light"
     },
     "output_type": "display_data"
    }
   ],
   "source": [
    "random_numbers = uniform_to_normal_boxmuller(10000)\n",
    "\n",
    "# Plot the histogram of random numbers\n",
    "plt.hist(random_numbers, bins=50, density=True, alpha=0.7)\n",
    "plt.xlabel('Value')\n",
    "plt.ylabel('Frequency')\n",
    "plt.title('Histogram of Random Numbers (Standard Normal Distribution)')\n",
    "plt.show()"
   ]
  },
  {
   "cell_type": "code",
   "execution_count": 36,
   "metadata": {},
   "outputs": [],
   "source": [
    "from tueplots import bundles\n",
    "plt.rcParams.update(bundles.beamer_moml())\n",
    "#plt.rcParams.update(bundles.icml2022())\n",
    "\n",
    "\n",
    "# Also add despine to the bundle using rcParams\n",
    "plt.rcParams['axes.spines.right'] = False\n",
    "plt.rcParams['axes.spines.top'] = False\n",
    "\n",
    "# Increase font size to match Beamer template\n",
    "plt.rcParams['font.size'] = 16\n",
    "# Make background transparent\n",
    "plt.rcParams['figure.facecolor'] = 'none'"
   ]
  },
  {
   "cell_type": "code",
   "execution_count": 37,
   "metadata": {},
   "outputs": [],
   "source": [
    "gt_distribution = torch.distributions.Normal(0, 1)\n",
    "\n",
    "# Samples from the ground truth distribution\n",
    "def sample_gt(n):\n",
    "    return gt_distribution.sample((n,))\n",
    "\n",
    "samples = sample_gt(1000)"
   ]
  }
 ],
 "metadata": {
  "kernelspec": {
   "display_name": "base",
   "language": "python",
   "name": "python3"
  },
  "language_info": {
   "codemirror_mode": {
    "name": "ipython",
    "version": 3
   },
   "file_extension": ".py",
   "mimetype": "text/x-python",
   "name": "python",
   "nbconvert_exporter": "python",
   "pygments_lexer": "ipython3",
   "version": "3.10.9"
  },
  "orig_nbformat": 4
 },
 "nbformat": 4,
 "nbformat_minor": 2
}

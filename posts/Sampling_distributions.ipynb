{
 "cells": [
  {
   "attachments": {},
   "cell_type": "markdown",
   "metadata": {},
   "source": [
    "---\n",
    "author: Rishabh Mondal\n",
    "title: Different Distribution Samples \n",
    "date: '2023-02-07'\n",
    "---"
   ]
  },
  {
   "attachments": {},
   "cell_type": "markdown",
   "metadata": {},
   "source": [
    "### Bernoulli, Categorical, Uniform, Normal, Beta and Gamma distributions"
   ]
  },
  {
   "attachments": {},
   "cell_type": "markdown",
   "metadata": {},
   "source": [
    "### Some imports"
   ]
  },
  {
   "cell_type": "code",
   "execution_count": 15,
   "metadata": {},
   "outputs": [],
   "source": [
    "#Important libraries\n",
    "import numpy as np\n",
    "import matplotlib.pyplot as plt\n",
    "import torch\n",
    "import torch.distributions as dist\n",
    "import math\n",
    "from tueplots import bundles\n",
    "plt.rcParams.update(bundles.beamer_moml())\n",
    "from IPython.display import Image\n",
    "import warnings\n",
    "warnings.filterwarnings('ignore')\n",
    "%matplotlib inline"
   ]
  },
  {
   "attachments": {},
   "cell_type": "markdown",
   "metadata": {},
   "source": [
    "***Notes***\n",
    "\n",
    "TUEplots: Extend matplotlib for scientific publications"
   ]
  },
  {
   "attachments": {},
   "cell_type": "markdown",
   "metadata": {},
   "source": [
    "### A function to make the Matplotlib plots prettier\n"
   ]
  },
  {
   "cell_type": "code",
   "execution_count": 13,
   "metadata": {},
   "outputs": [],
   "source": [
    "SPINE_COLOR = 'red'\n",
    "\n",
    "def format_axes(ax):\n",
    "    for spine in ['top', 'right']:\n",
    "        ax.spines[spine].set_visible(False)\n",
    "\n",
    "    for spine in ['left', 'bottom']:\n",
    "        ax.spines[spine].set_color(SPINE_COLOR)\n",
    "        ax.spines[spine].set_linewidth(0.5)\n",
    "\n",
    "    ax.xaxis.set_ticks_position('bottom')\n",
    "    ax.yaxis.set_ticks_position('left')\n",
    "\n",
    "    for axis in [ax.xaxis, ax.yaxis]:\n",
    "        axis.set_tick_params(direction='out', color=SPINE_COLOR)\n",
    "\n",
    "    return ax"
   ]
  },
  {
   "attachments": {},
   "cell_type": "markdown",
   "metadata": {},
   "source": [
    "### Pre-defined values"
   ]
  },
  {
   "cell_type": "code",
   "execution_count": 6,
   "metadata": {},
   "outputs": [],
   "source": [
    "\n",
    "n_samples=10000\n",
    "seed=42\n",
    "p=0.4\n",
    "num_categories=5\n"
   ]
  },
  {
   "attachments": {},
   "cell_type": "markdown",
   "metadata": {},
   "source": [
    "### Uniform distribution "
   ]
  },
  {
   "attachments": {},
   "cell_type": "markdown",
   "metadata": {},
   "source": [
    "A continuous random variable X is said to have a Uniform distribution over the interval [a,b] , shown as X∼Uniform(a,b)\n",
    ", if its PDF is given by\n",
    "$$\n",
    "X(x) = \\begin{cases}\n",
    "1 & \\text{if } a < x < b \\\\\n",
    "0 & \\text{if } b \\leq x < a \\\\\n",
    "\\end{cases}\n",
    "$$"
   ]
  },
  {
   "attachments": {},
   "cell_type": "markdown",
   "metadata": {},
   "source": [
    "We can also plot and visualise the same phenomenon using a histogram shown below."
   ]
  },
  {
   "cell_type": "code",
   "execution_count": 16,
   "metadata": {},
   "outputs": [
    {
     "data": {
      "text/plain": [
       "<Axes: >"
      ]
     },
     "execution_count": 16,
     "metadata": {},
     "output_type": "execute_result"
    },
    {
     "data": {
      "image/png": "[encoded data removed]",
      "text/plain": [
       "<Figure size 551.181x248.032 with 1 Axes>"
      ]
     },
     "metadata": {},
     "output_type": "display_data"
    }
   ],
   "source": [
    "distribution = torch.distributions.Uniform(0, 1)\n",
    "random_numbers = distribution.sample((n_samples,))\n",
    "plt.hist(random_numbers.numpy(), bins=20)\n",
    "format_axes(plt.gca())\n"
   ]
  },
  {
   "attachments": {},
   "cell_type": "markdown",
   "metadata": {},
   "source": [
    "We can notice that all outcomes within a given range are equally likely , ploted as a rectangular graph. \n"
   ]
  },
  {
   "attachments": {},
   "cell_type": "markdown",
   "metadata": {},
   "source": [
    "### Bernoulli distribution "
   ]
  },
  {
   "attachments": {},
   "cell_type": "markdown",
   "metadata": {},
   "source": [
    "Bernoulli Distribution is a discrete probability distribution used for experiments with yes/no outcomes. It represents a single trial with two possible outcomes: success (1) with probability p or failure (0) with probability (1 - p). \n",
    "\n",
    "$$\n",
    "f(x, p) = \\begin{cases}\n",
    "p & \\text{if } x = 1 \\\\\n",
    "1 - p & \\text{if } x = 0 \\\\\n",
    "\\end{cases}\n",
    "$$\n",
    "\n",
    "\n",
    "We can also express this formula as:\n",
    "$$\n",
    "PMF = f(x, p) = px(1 - p)^{1 - x}, \\text{ where } x \\in \\{0, 1\\}\n",
    "$$"
   ]
  },
  {
   "cell_type": "code",
   "execution_count": 20,
   "metadata": {},
   "outputs": [
    {
     "data": {
      "text/plain": [
       "<Axes: >"
      ]
     },
     "execution_count": 20,
     "metadata": {},
     "output_type": "execute_result"
    },
    {
     "data": {
      "image/png": "[encoded data removed]",
      "text/plain": [
       "<Figure size 551.181x248.032 with 1 Axes>"
      ]
     },
     "metadata": {},
     "output_type": "display_data"
    }
   ],
   "source": [
    "from torch.distributions import Bernoulli\n",
    "p=torch.tensor(p)\n",
    "Bernoulli_samples = Bernoulli(probs=p,logits=None).sample((n_samples,))\n",
    "plt.hist(Bernoulli_samples.numpy(), bins=3)\n",
    "plt.xticks([0, 1], ['0', '1'])\n",
    "format_axes(plt.gca())"
   ]
  },
  {
   "attachments": {},
   "cell_type": "markdown",
   "metadata": {},
   "source": [
    "**Important things to note**\n",
    "\n",
    "`probs`: Directly known probability values (0-1), providing a direct interpretation of probabilities.\n",
    "\n",
    "`logits`: Log-odds or transformed probabilities (using sigmoid) useful for like LR or NN models outputting logits."
   ]
  },
  {
   "attachments": {},
   "cell_type": "markdown",
   "metadata": {},
   "source": [
    "### Categorical distribution "
   ]
  },
  {
   "attachments": {},
   "cell_type": "markdown",
   "metadata": {},
   "source": [
    "***Story*** - In a set of discrete outcomes, each outcome is assigned a probability.\n",
    "\n",
    "***Example*** - The student has a $p_{a}$ probability of studying, a $p_{b}$ probability of going out with friends, and a $p_{c}$ probability of watching a movie.\n",
    "\n",
    "$$\n",
    "f(x; p_1, p_2, ..., p_k) = \n",
    "\\begin{cases}\n",
    "p_1 & \\text{if } x = 1 \\\\\n",
    "p_2 & \\text{if } x = 2 \\\\\n",
    "\\vdots \\\\\n",
    "p_k & \\text{if } x = k \\\\\n",
    "\\end{cases}\n",
    "$$\n",
    "\n",
    " "
   ]
  },
  {
   "cell_type": "code",
   "execution_count": 24,
   "metadata": {},
   "outputs": [
    {
     "data": {
      "text/plain": [
       "<Axes: >"
      ]
     },
     "execution_count": 24,
     "metadata": {},
     "output_type": "execute_result"
    },
    {
     "data": {
      "image/png": "[encoded data removed]",
      "text/plain": [
       "<Figure size 551.181x248.032 with 1 Axes>"
      ]
     },
     "metadata": {},
     "output_type": "display_data"
    }
   ],
   "source": [
    "from torch.distributions import Categorical\n",
    "categorical_distribution = Categorical(torch.ones(num_categories))\n",
    "categorical_numbers = categorical_distribution.sample((n_samples,))\n",
    "category_counts = torch.bincount(categorical_numbers)\n",
    "# Compute the probabilities\n",
    "probabilities = category_counts / n_samples\n",
    "plt.bar(range(len(probabilities)), probabilities)\n",
    "format_axes(plt.gca())\n"
   ]
  },
  {
   "attachments": {},
   "cell_type": "markdown",
   "metadata": {},
   "source": [
    "***Support*** -\n",
    "If we index the categories with sequential integers from 1 to N, the distribution is supported for integers 1 to N, inclusive when described using the indices of the categories."
   ]
  },
  {
   "attachments": {},
   "cell_type": "markdown",
   "metadata": {},
   "source": [
    "### Normal distribution "
   ]
  },
  {
   "attachments": {},
   "cell_type": "markdown",
   "metadata": {},
   "source": [
    "***Story*** - The normal distribution arises when many small factors contribute to a quantity without any extreme variations, resulting in a bell-shaped curve.\n",
    "\n",
    "***Example*** - When measuring the heights of a large population, we typically find that the distribution follows a bell-shaped curve, with the majority of individuals clustering around the average height and fewer individuals at the extremes (very tall or very short)\n",
    "\n",
    "$$\n",
    "f(x|\\mu, \\sigma) = \\frac{1}{\\sqrt{2\\pi\\sigma^2}} e^{-\\frac{(x-\\mu)^2}{2\\sigma^2}}\n",
    "$$\n",
    "\n",
    "***Moments***\n",
    "\n",
    "Mean: $\\mu$ , \n",
    "Variance: $\\sigma$"
   ]
  },
  {
   "cell_type": "code",
   "execution_count": 35,
   "metadata": {},
   "outputs": [
    {
     "data": {
      "text/plain": [
       "<Axes: >"
      ]
     },
     "execution_count": 35,
     "metadata": {},
     "output_type": "execute_result"
    },
    {
     "data": {
      "image/png": "[encoded data removed]",
      "text/plain": [
       "<Figure size 551.181x248.032 with 1 Axes>"
      ]
     },
     "metadata": {},
     "output_type": "display_data"
    }
   ],
   "source": [
    "from torch.distributions import Normal\n",
    "mean = torch.tensor([0.0])\n",
    "stddev = torch.tensor([1.0])\n",
    "dist = Normal(mean, stddev)\n",
    "x = np.linspace(-5, 5, 100)\n",
    "# Calculate the corresponding probability density for each x\n",
    "pdf = torch.exp(dist.log_prob(torch.tensor(x))).numpy()\n",
    "\n",
    "# Plot the normal distribution\n",
    "plt.plot(x, pdf)\n",
    "format_axes(plt.gca())"
   ]
  },
  {
   "cell_type": "code",
   "execution_count": 38,
   "metadata": {},
   "outputs": [
    {
     "data": {
      "image/png": "[encoded data removed]",
      "text/plain": [
       "<Figure size 551.181x248.032 with 1 Axes>"
      ]
     },
     "metadata": {},
     "output_type": "display_data"
    }
   ],
   "source": [
    "import numpy as np\n",
    "import matplotlib.pyplot as plt\n",
    "\n",
    "# Set the mean and standard deviation of the original normal distribution\n",
    "mu = 0\n",
    "sigma = 1\n",
    "\n",
    "# Set the desired mean and standard deviation of the converted normal distribution\n",
    "a = 5\n",
    "b = 2\n",
    "\n",
    "# Generate random samples from the standard normal distribution\n",
    "x = np.random.normal(mu, sigma, 1000)\n",
    "\n",
    "# Apply the transformation to convert to the desired normal distribution\n",
    "y = a + b * x\n",
    "\n",
    "# Plot the histogram of the converted normal distribution\n",
    "plt.hist(y, bins=20, density=True, alpha=0.5)\n",
    "plt.xlabel('Value')\n",
    "plt.ylabel('Density')\n",
    "plt.title(f'Normal Distribution: μ = {a}, σ = {b}')\n",
    "plt.show()\n"
   ]
  },
  {
   "attachments": {},
   "cell_type": "markdown",
   "metadata": {},
   "source": [
    "### Beta distributions "
   ]
  },
  {
   "attachments": {},
   "cell_type": "markdown",
   "metadata": {},
   "source": [
    "***Story*** : Let's say you have two processes, each consisting of multiple steps. Both processes occur at the same rate, but the first process requires $\\alpha$ step and the second process $\\beta$ ,the fraction of the total waiting time taken by the first process is Beta distributed .\n",
    "\n",
    "***Example*** : Include the Click-Through Rate (CTR) of an advertisement, the conversion rate of customers purchasing on your website.\n",
    "\n",
    "$$f(x; \\alpha, \\beta) = \\frac{x^{\\alpha-1} (1-x)^{\\beta-1}}{B(\\alpha, \\beta)}$$\n",
    "\n",
    "where \n",
    "\n",
    "$$B(\\alpha, \\beta) = \\int_0^1 x^{\\alpha-1} (1-x)^{\\beta-1} dx$$\n",
    "\n",
    "***Support*** : The Beta distribution has support on the interval [0, 1].\n",
    "\n",
    "***Moments*** :\n",
    "\n",
    "$\\mu = \\frac{\\alpha}{\\alpha + \\beta}$\n",
    "\n",
    "$\\sigma^2 = \\frac{\\alpha \\beta}{(\\alpha + \\beta)^2 (\\alpha + \\beta + 1)}$\n",
    "\n"
   ]
  },
  {
   "cell_type": "code",
   "execution_count": 46,
   "metadata": {},
   "outputs": [
    {
     "data": {
      "text/plain": [
       "<Axes: >"
      ]
     },
     "execution_count": 46,
     "metadata": {},
     "output_type": "execute_result"
    },
    {
     "data": {
      "image/png": "[encoded data removed]",
      "text/plain": [
       "<Figure size 551.181x248.032 with 1 Axes>"
      ]
     },
     "metadata": {},
     "output_type": "display_data"
    }
   ],
   "source": [
    "alpha = 2\n",
    "beta = 7\n",
    "# Create a Beta distribution object\n",
    "beta_dist = torch.distributions.Beta(alpha, beta)\n",
    "samples = beta_dist.sample((n_samples,))\n",
    "samples_np = samples.numpy()\n",
    "plt.hist(samples_np, bins=30, density=True)\n",
    "\n",
    "# Plot the probability density function (PDF)\n",
    "x = torch.linspace(0, 1, n_samples)\n",
    "pdf = beta_dist.log_prob(x).exp()\n",
    "plt.plot(x.numpy(), pdf.numpy(), 'r-', linewidth=2)\n",
    "format_axes(plt.gca())"
   ]
  },
  {
   "attachments": {},
   "cell_type": "markdown",
   "metadata": {},
   "source": [
    "### Gamma distrubution\n"
   ]
  },
  {
   "cell_type": "code",
   "execution_count": 47,
   "metadata": {},
   "outputs": [
    {
     "data": {
      "text/plain": [
       "<Axes: >"
      ]
     },
     "execution_count": 47,
     "metadata": {},
     "output_type": "execute_result"
    },
    {
     "data": {
      "image/png": "[encoded data removed]",
      "text/plain": [
       "<Figure size 551.181x248.032 with 1 Axes>"
      ]
     },
     "metadata": {},
     "output_type": "display_data"
    }
   ],
   "source": [
    "alpha = 2.0\n",
    "beta = 1.0\n",
    "# Create a Gamma distribution object\n",
    "gamma_dist = torch.distributions.Gamma(alpha, beta)\n",
    "samples = gamma_dist.sample((n_samples,))\n",
    "samples_np = samples.numpy()\n",
    "plt.hist(samples_np, bins=30, density=True)\n",
    "\n",
    "# Plot the probability density function (PDF)\n",
    "x = torch.linspace(0, 10, n_samples)\n",
    "pdf = gamma_dist.log_prob(x).exp()\n",
    "plt.plot(x.numpy(), pdf.numpy(), 'r-', linewidth=2)\n",
    "format_axes(plt.gca())"
   ]
  },
  {
   "attachments": {},
   "cell_type": "markdown",
   "metadata": {},
   "source": [
    "### Implementing a pseudo-random number generator (PRNG)"
   ]
  },
  {
   "attachments": {},
   "cell_type": "markdown",
   "metadata": {},
   "source": [
    "**Implementing a pseudo-random number generator (PRNG)** - Generates a sequence of numbers that exhibit properties of randomness"
   ]
  },
  {
   "attachments": {},
   "cell_type": "markdown",
   "metadata": {},
   "source": [
    "**Linear Congruential Generator (LCG)** is a simple PRNG algorithm - The LCG algorithm is defined by the recurrence relation:\n",
    "\n",
    "$X_{n+1} = (a \\cdot X_n + c) \\mod m$\n",
    "\n",
    "- $X_{n+1}$ is the Next pseudo-random number.\n",
    "- $X_n$ is the current pseudo-random number.\n",
    "- $a$ is the multiplier , determines the period of the generated number.\n",
    "- $c$ is the increment, shifts the generated sequence.\n",
    "- $m$ is the modulus, determines the range of values .\n"
   ]
  },
  {
   "attachments": {},
   "cell_type": "markdown",
   "metadata": {},
   "source": [
    "***Integer Constant***\n",
    "\n",
    "$m,{0<m}$ — The modulus\n",
    "\n",
    "$a,0<a<m$ — The multiplier\n",
    "\n",
    "$c,0<=c<m$ — The increment\n",
    "\n",
    "$X_{0},0<X_{0}<m$ — The seed / start value\n",
    "\n"
   ]
  },
  {
   "cell_type": "code",
   "execution_count": 56,
   "metadata": {},
   "outputs": [],
   "source": [
    "# Function for Linear Congruential Generator\n",
    "def lcg(seed, n_samples):\n",
    "    \"\"\"\n",
    "    Generates a sequence of pseudo-random numbers using the Linear Congruential Generator (LCG) algorithm.\n",
    "\n",
    "    Args:\n",
    "        seed (int): The seed value for the LCG algorithm.\n",
    "        n_samples (int): The number of random numbers to generate.\n",
    "\n",
    "    Returns:\n",
    "        list: A list of pseudo-random numbers normalized to the range [0, 1].\n",
    "    \"\"\"\n",
    "    a = 1103515245\n",
    "    c = 12345\n",
    "    m = 2 ** 31\n",
    "    random_numbers = []\n",
    "\n",
    "    for _ in range(n_samples):\n",
    "        seed = (a * seed + c) % m\n",
    "        random_number = seed / m  # Normalize to range [0, 1]\n",
    "        random_numbers.append(random_number)\n",
    "\n",
    "    return random_numbers\n"
   ]
  },
  {
   "attachments": {},
   "cell_type": "markdown",
   "metadata": {},
   "source": [
    "Plot histogram"
   ]
  },
  {
   "cell_type": "code",
   "execution_count": 57,
   "metadata": {},
   "outputs": [
    {
     "data": {
      "image/png": "[encoded data removed]",
      "text/plain": [
       "<Figure size 551.181x248.032 with 1 Axes>"
      ]
     },
     "metadata": {},
     "output_type": "display_data"
    }
   ],
   "source": [
    "\n",
    "# Example usage:\n",
    "random_numbers = lcg(seed, n_samples )\n",
    "\n",
    "plt.hist(random_numbers, bins=20)\n",
    "plt.xlabel('Random Number')\n",
    "plt.ylabel('Frequency')\n",
    "plt.title('Histogram of Pseudo-random Numbers')\n",
    "plt.show()"
   ]
  },
  {
   "attachments": {},
   "cell_type": "markdown",
   "metadata": {},
   "source": [
    "### Uniform to Normal sampling"
   ]
  },
  {
   "attachments": {},
   "cell_type": "markdown",
   "metadata": {},
   "source": [
    "***Box Muller Method***"
   ]
  },
  {
   "cell_type": "code",
   "execution_count": 58,
   "metadata": {},
   "outputs": [],
   "source": [
    "def uniform_to_normal_boxmuller(n_samples):\n",
    "    \"\"\"\n",
    "    Generates a sequence of pseudo-random numbers from a standard normal distribution using the Box-Muller method.\n",
    "\n",
    "    Args:\n",
    "        n_samples (int): The number of random numbers to generate.\n",
    "\n",
    "    Returns:\n",
    "        torch.Tensor: A tensor of pseudo-random numbers following the standard normal distribution.\n",
    "    \"\"\"\n",
    "    uniform_distribution = dist.Uniform(0, 1)\n",
    "    random_numbers = []\n",
    "\n",
    "    for _ in range(n_samples // 2):\n",
    "        u1 = uniform_distribution.sample()\n",
    "        u2 = uniform_distribution.sample()\n",
    "\n",
    "        z1 = torch.sqrt(-2 * torch.log(u1)) * torch.cos(2 * math.pi * u2)\n",
    "        z2 = torch.sqrt(-2 * torch.log(u1)) * torch.sin(2 * math.pi * u2)\n",
    "\n",
    "        random_numbers.append(z1)\n",
    "        random_numbers.append(z2)\n",
    "\n",
    "    if n_samples % 2 != 0:\n",
    "        u = uniform_distribution.sample()\n",
    "        z = torch.sqrt(-2 * torch.log(u)) * torch.cos(2 * math.pi * uniform_distribution.sample())\n",
    "        random_numbers.append(z)\n",
    "\n",
    "    return torch.stack(random_numbers)"
   ]
  },
  {
   "attachments": {},
   "cell_type": "markdown",
   "metadata": {},
   "source": [
    "In ***Normal Distribution*** Values are ***symmetrically distributed*** around a central mean. For example, heights in a population follow a ***bell-shaped*** curve, with the most common values near the mean and fewer occurrences as we move away from it. Graphically, it is represented by a bell-shaped curve."
   ]
  }
 ],
 "metadata": {
  "kernelspec": {
   "display_name": "base",
   "language": "python",
   "name": "python3"
  },
  "language_info": {
   "codemirror_mode": {
    "name": "ipython",
    "version": 3
   },
   "file_extension": ".py",
   "mimetype": "text/x-python",
   "name": "python",
   "nbconvert_exporter": "python",
   "pygments_lexer": "ipython3",
   "version": "3.10.9"
  },
  "orig_nbformat": 4
 },
 "nbformat": 4,
 "nbformat_minor": 2
}

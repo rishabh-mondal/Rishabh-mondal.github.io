{
 "cells": [
  {
   "cell_type": "code",
   "execution_count": 31,
   "metadata": {},
   "outputs": [],
   "source": [
    "import numpy as np\n",
    "import matplotlib.pyplot as plt\n",
    "import matplotlib.colors\n",
    "import pandas as pd\n",
    "from sklearn.model_selection import train_test_split\n",
    "from sklearn.metrics import accuracy_score, mean_squared_error\n",
    "from tqdm import tqdm_notebook \n",
    "\n",
    "from sklearn.preprocessing import OneHotEncoder\n",
    "from sklearn.datasets import make_blobs"
   ]
  },
  {
   "attachments": {},
   "cell_type": "markdown",
   "metadata": {},
   "source": [
    "Loading Dataset"
   ]
  },
  {
   "cell_type": "code",
   "execution_count": 32,
   "metadata": {},
   "outputs": [
    {
     "data": {
      "text/plain": [
       "\"\\n# Load Dataset from Kaggle \\n#pip install kaggle\\nimport os\\n\\nimport kaggle\\n# Set Kaggle API credentials\\n\\n\\n# Download the dataset using Kaggle API\\nkaggle.api.dataset_download_files('kaggle datasets download -d lava18/google-play-store-apps')\\n\\n# Unzip the downloaded dataset files if necessary\\n\\n# Load the dataset using pandas\\ndf = pd.read_csv('path_to_dataset_file.csv')\\n\""
      ]
     },
     "execution_count": 32,
     "metadata": {},
     "output_type": "execute_result"
    }
   ],
   "source": [
    "'''\n",
    "# Load Dataset from Kaggle \n",
    "#pip install kaggle\n",
    "import os\n",
    "\n",
    "import kaggle\n",
    "# Set Kaggle API credentials\n",
    "\n",
    "\n",
    "# Download the dataset using Kaggle API\n",
    "kaggle.api.dataset_download_files('kaggle datasets download -d lava18/google-play-store-apps')\n",
    "\n",
    "# Unzip the downloaded dataset files if necessary\n",
    "\n",
    "# Load the dataset using pandas\n",
    "df = pd.read_csv('path_to_dataset_file.csv')\n",
    "'''"
   ]
  },
  {
   "attachments": {},
   "cell_type": "markdown",
   "metadata": {},
   "source": []
  },
  {
   "cell_type": "code",
   "execution_count": 33,
   "metadata": {},
   "outputs": [],
   "source": [
    "class SigmoidNeuron:\n",
    "    \n",
    "  def __init__(self):\n",
    "    self.W1 = None\n",
    "    self.b1 = None\n",
    "    self.W2 = None\n",
    "    self.b2 = None\n",
    "    \n",
    "  def perceptron(self, X, W, b):\n",
    "    return np.dot(X, W.T) + b\n",
    "  \n",
    "  def sigmoid(self, X):\n",
    "    return 1.0 / (1.0 + np.exp(-X))\n",
    "  \n",
    "  def grad_w_mse(self, X, Y, Y_pred):\n",
    "    m = X.shape[0]\n",
    "    return np.dot((Y_pred - Y) * Y_pred * (1 - Y_pred), X) / m\n",
    "  \n",
    "  def grad_b_mse(self, X, Y, Y_pred):\n",
    "    m = X.shape[0]\n",
    "    return np.sum((Y_pred - Y) * Y_pred * (1 - Y_pred)) / m\n",
    "  \n",
    "  def fit(self, X, Y, epochs=1, learning_rate=1, initialise=True, loss_fn=\"mse\", display_loss=False):\n",
    "    \n",
    "    # Initialise weights and biases\n",
    "    if initialise:\n",
    "      input_dim = X.shape[1]\n",
    "      hidden_dim = 2 * input_dim\n",
    "      output_dim = 1\n",
    "      self.W1 = np.random.randn(input_dim, hidden_dim)\n",
    "      self.b1 = np.zeros(hidden_dim)\n",
    "      self.W2 = np.random.randn(hidden_dim, output_dim)\n",
    "      self.b2 = np.zeros(output_dim)\n",
    "      \n",
    "    if display_loss:\n",
    "      loss = {}\n",
    "    \n",
    "    for epoch in range(epochs):\n",
    "      # Forward Propagation\n",
    "      hidden_output = self.sigmoid(self.perceptron(X, self.W1, self.b1))\n",
    "      Y_pred = self.sigmoid(self.perceptron(hidden_output, self.W2, self.b2))\n",
    "      \n",
    "      # Backpropagation\n",
    "      dw2 = self.grad_w_mse(hidden_output, Y, Y_pred)\n",
    "      db2 = self.grad_b_mse(hidden_output, Y, Y_pred)\n",
    "      \n",
    "      dw1 = np.dot((np.dot((Y_pred - Y) * Y_pred * (1 - Y_pred), self.W2.T) * hidden_output * (1 - hidden_output)).T, X)\n",
    "      db1 = np.sum((np.dot((Y_pred - Y) * Y_pred * (1 - Y_pred), self.W2.T) * hidden_output * (1 - hidden_output)).T, axis=1)\n",
    "      \n",
    "      # Update weights and biases\n",
    "      self.W2 -= learning_rate * dw2\n",
    "      self.b2 -= learning_rate * db2\n",
    "      self.W1 -= learning_rate * dw1\n",
    "      self.b1 -= learning_rate * db1\n",
    "      \n",
    "      if display_loss:\n",
    "        loss[epoch] = np.mean((Y_pred - Y) ** 2)\n",
    "    \n",
    "    if display_loss:\n",
    "      plt.plot(list(loss.values()))\n",
    "      plt.xlabel('Epochs')\n",
    "      plt.ylabel('Mean Squared Error')\n",
    "      plt.title('Loss vs Epochs')\n",
    "      plt.show()\n",
    "      \n",
    "  def predict(self, X):\n",
    "    hidden_output = self.sigmoid(self.perceptron(X, self.W1, self.b1))\n",
    "    Y_pred = self.sigmoid(self.perceptron(hidden_output, self.W2, self.b2))\n",
    "    return Y_pred\n"
   ]
  }
 ],
 "metadata": {
  "kernelspec": {
   "display_name": "base",
   "language": "python",
   "name": "python3"
  },
  "language_info": {
   "codemirror_mode": {
    "name": "ipython",
    "version": 3
   },
   "file_extension": ".py",
   "mimetype": "text/x-python",
   "name": "python",
   "nbconvert_exporter": "python",
   "pygments_lexer": "ipython3",
   "version": "3.10.9"
  },
  "orig_nbformat": 4
 },
 "nbformat": 4,
 "nbformat_minor": 2
}
